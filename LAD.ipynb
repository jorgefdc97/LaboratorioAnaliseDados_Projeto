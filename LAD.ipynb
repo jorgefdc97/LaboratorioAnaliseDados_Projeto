{
  "nbformat": 4,
  "nbformat_minor": 0,
  "metadata": {
    "colab": {
      "provenance": [],
      "include_colab_link": true
    },
    "kernelspec": {
      "name": "python3",
      "display_name": "Python 3"
    },
    "language_info": {
      "name": "python"
    }
  },
  "cells": [
    {
      "cell_type": "markdown",
      "metadata": {
        "id": "view-in-github",
        "colab_type": "text"
      },
      "source": [
        "<a href=\"https://colab.research.google.com/github/jorgefdc97/LaboratorioAnaliseDados_Projeto/blob/master/LAD.ipynb\" target=\"_parent\"><img src=\"https://colab.research.google.com/assets/colab-badge.svg\" alt=\"Open In Colab\"/></a>"
      ]
    },
    {
      "cell_type": "code",
      "source": [
        "import pandas as pd\n",
        "\n",
        "euro = pd.read_csv(\"sample_data//california_housing_test.csv\")\n",
        "\n",
        "\n",
        "dfEuro = pd.DataFrame(euro).T\n",
        "\n",
        "print(dfEuro)\n",
        "\n",
        "print(\"\\n___HEAD___\\n\",dfEuro.head(1))\n",
        "print(\"\\n___TAIL___\\n\",dfEuro.tail(1))\n",
        "goal = euro['population']\n",
        "goal_mean = goal.mean()\n",
        "goal.fillna(goal_mean, inplace = True)\n",
        "euro.isnull().sum()\n",
        "print(goal_mean)"
      ],
      "metadata": {
        "id": "KiLZ39IfZqts",
        "colab": {
          "base_uri": "https://localhost:8080/"
        },
        "outputId": "6756c340-82a6-4e14-9996-4c05ac7ed0a3"
      },
      "execution_count": null,
      "outputs": [
        {
          "output_type": "stream",
          "name": "stdout",
          "text": [
            "                           0           1            2            3     \\\n",
            "longitude             -122.0500    -118.300    -117.8100    -118.3600   \n",
            "latitude                37.3700      34.260      33.7800      33.8200   \n",
            "housing_median_age      27.0000      43.000      27.0000      28.0000   \n",
            "total_rooms           3885.0000    1510.000    3589.0000      67.0000   \n",
            "total_bedrooms         661.0000     310.000     507.0000      15.0000   \n",
            "population            1537.0000     809.000    1484.0000      49.0000   \n",
            "households             606.0000     277.000     495.0000      11.0000   \n",
            "median_income            6.6085       3.599       5.7934       6.1359   \n",
            "median_house_value  344700.0000  176500.000  270500.0000  330000.0000   \n",
            "\n",
            "                          4           5           6           7     \\\n",
            "longitude            -119.6700   -119.5600   -121.4300    -120.650   \n",
            "latitude               36.3300     36.5100     38.6300      35.480   \n",
            "housing_median_age     19.0000     37.0000     43.0000      19.000   \n",
            "total_rooms          1241.0000   1018.0000   1009.0000    2310.000   \n",
            "total_bedrooms        244.0000    213.0000    225.0000     471.000   \n",
            "population            850.0000    663.0000    604.0000    1341.000   \n",
            "households            237.0000    204.0000    218.0000     441.000   \n",
            "median_income           2.9375      1.6635      1.6641       3.225   \n",
            "median_house_value  81700.0000  67000.0000  67000.0000  166900.000   \n",
            "\n",
            "                           8            9     ...         2990         2991  \\\n",
            "longitude             -122.8400    -118.0200  ...    -118.2300    -117.1700   \n",
            "latitude                38.4000      34.0800  ...      34.0900      34.2800   \n",
            "housing_median_age      15.0000      31.0000  ...      49.0000      13.0000   \n",
            "total_rooms           3080.0000    2402.0000  ...    1638.0000    4867.0000   \n",
            "total_bedrooms         617.0000     632.0000  ...     456.0000     718.0000   \n",
            "population            1446.0000    2830.0000  ...    1500.0000     780.0000   \n",
            "households             599.0000     603.0000  ...     430.0000     250.0000   \n",
            "median_income            3.6696       2.3333  ...       2.6923       7.1997   \n",
            "median_house_value  194400.0000  164200.0000  ...  150000.0000  253800.0000   \n",
            "\n",
            "                           2992         2993         2994        2995  \\\n",
            "longitude             -122.3300    -117.9100    -117.9300    -119.860   \n",
            "latitude                37.3900      33.6000      33.8600      34.420   \n",
            "housing_median_age      52.0000      37.0000      35.0000      23.000   \n",
            "total_rooms            573.0000    2088.0000     931.0000    1450.000   \n",
            "total_bedrooms         102.0000     510.0000     181.0000     642.000   \n",
            "population             232.0000     673.0000     516.0000    1258.000   \n",
            "households              92.0000     390.0000     174.0000     607.000   \n",
            "median_income            6.2263       5.1048       5.5867       1.179   \n",
            "median_house_value  500001.0000  500001.0000  182500.0000  225000.000   \n",
            "\n",
            "                           2996        2997         2998         2999  \n",
            "longitude             -118.1400   -119.7000    -117.1200    -119.6300  \n",
            "latitude                34.0600     36.3000      34.1000      34.4200  \n",
            "housing_median_age      27.0000     10.0000      40.0000      42.0000  \n",
            "total_rooms           5257.0000    956.0000      96.0000    1765.0000  \n",
            "total_bedrooms        1082.0000    201.0000      14.0000     263.0000  \n",
            "population            3496.0000    693.0000      46.0000     753.0000  \n",
            "households            1036.0000    220.0000      14.0000     260.0000  \n",
            "median_income            3.3906      2.2895       3.2708       8.5608  \n",
            "median_house_value  237200.0000  62000.0000  162500.0000  500001.0000  \n",
            "\n",
            "[9 rows x 3000 columns]\n",
            "\n",
            "___HEAD___\n",
            "              0      1       2       3       4       5       6       7     \\\n",
            "longitude -122.05 -118.3 -117.81 -118.36 -119.67 -119.56 -121.43 -120.65   \n",
            "\n",
            "             8       9     ...    2990    2991    2992    2993    2994  \\\n",
            "longitude -122.84 -118.02  ... -118.23 -117.17 -122.33 -117.91 -117.93   \n",
            "\n",
            "             2995    2996   2997    2998    2999  \n",
            "longitude -119.86 -118.14 -119.7 -117.12 -119.63  \n",
            "\n",
            "[1 rows x 3000 columns]\n",
            "\n",
            "___TAIL___\n",
            "                         0         1         2         3        4        5     \\\n",
            "median_house_value  344700.0  176500.0  270500.0  330000.0  81700.0  67000.0   \n",
            "\n",
            "                       6         7         8         9     ...      2990  \\\n",
            "median_house_value  67000.0  166900.0  194400.0  164200.0  ...  150000.0   \n",
            "\n",
            "                        2991      2992      2993      2994      2995  \\\n",
            "median_house_value  253800.0  500001.0  500001.0  182500.0  225000.0   \n",
            "\n",
            "                        2996     2997      2998      2999  \n",
            "median_house_value  237200.0  62000.0  162500.0  500001.0  \n",
            "\n",
            "[1 rows x 3000 columns]\n",
            "1402.7986666666666\n"
          ]
        }
      ]
    },
    {
      "cell_type": "code",
      "source": [],
      "metadata": {
        "colab": {
          "base_uri": "https://localhost:8080/",
          "height": 315
        },
        "id": "z9btZ9_qbgIO",
        "outputId": "e526edca-e4be-4aa9-eddb-8fd980909269"
      },
      "execution_count": null,
      "outputs": [
        {
          "output_type": "error",
          "ename": "MessageError",
          "evalue": "Error: credential propagation was unsuccessful",
          "traceback": [
            "\u001b[0;31m---------------------------------------------------------------------------\u001b[0m",
            "\u001b[0;31mMessageError\u001b[0m                              Traceback (most recent call last)",
            "\u001b[0;32m<ipython-input-2-d5df0069828e>\u001b[0m in \u001b[0;36m<cell line: 2>\u001b[0;34m()\u001b[0m\n\u001b[1;32m      1\u001b[0m \u001b[0;32mfrom\u001b[0m \u001b[0mgoogle\u001b[0m\u001b[0;34m.\u001b[0m\u001b[0mcolab\u001b[0m \u001b[0;32mimport\u001b[0m \u001b[0mdrive\u001b[0m\u001b[0;34m\u001b[0m\u001b[0;34m\u001b[0m\u001b[0m\n\u001b[0;32m----> 2\u001b[0;31m \u001b[0mdrive\u001b[0m\u001b[0;34m.\u001b[0m\u001b[0mmount\u001b[0m\u001b[0;34m(\u001b[0m\u001b[0;34m'/content/drive'\u001b[0m\u001b[0;34m)\u001b[0m\u001b[0;34m\u001b[0m\u001b[0;34m\u001b[0m\u001b[0m\n\u001b[0m",
            "\u001b[0;32m/usr/local/lib/python3.10/dist-packages/google/colab/drive.py\u001b[0m in \u001b[0;36mmount\u001b[0;34m(mountpoint, force_remount, timeout_ms, readonly)\u001b[0m\n\u001b[1;32m     98\u001b[0m \u001b[0;32mdef\u001b[0m \u001b[0mmount\u001b[0m\u001b[0;34m(\u001b[0m\u001b[0mmountpoint\u001b[0m\u001b[0;34m,\u001b[0m \u001b[0mforce_remount\u001b[0m\u001b[0;34m=\u001b[0m\u001b[0;32mFalse\u001b[0m\u001b[0;34m,\u001b[0m \u001b[0mtimeout_ms\u001b[0m\u001b[0;34m=\u001b[0m\u001b[0;36m120000\u001b[0m\u001b[0;34m,\u001b[0m \u001b[0mreadonly\u001b[0m\u001b[0;34m=\u001b[0m\u001b[0;32mFalse\u001b[0m\u001b[0;34m)\u001b[0m\u001b[0;34m:\u001b[0m\u001b[0;34m\u001b[0m\u001b[0;34m\u001b[0m\u001b[0m\n\u001b[1;32m     99\u001b[0m   \u001b[0;34m\"\"\"Mount your Google Drive at the specified mountpoint path.\"\"\"\u001b[0m\u001b[0;34m\u001b[0m\u001b[0;34m\u001b[0m\u001b[0m\n\u001b[0;32m--> 100\u001b[0;31m   return _mount(\n\u001b[0m\u001b[1;32m    101\u001b[0m       \u001b[0mmountpoint\u001b[0m\u001b[0;34m,\u001b[0m\u001b[0;34m\u001b[0m\u001b[0;34m\u001b[0m\u001b[0m\n\u001b[1;32m    102\u001b[0m       \u001b[0mforce_remount\u001b[0m\u001b[0;34m=\u001b[0m\u001b[0mforce_remount\u001b[0m\u001b[0;34m,\u001b[0m\u001b[0;34m\u001b[0m\u001b[0;34m\u001b[0m\u001b[0m\n",
            "\u001b[0;32m/usr/local/lib/python3.10/dist-packages/google/colab/drive.py\u001b[0m in \u001b[0;36m_mount\u001b[0;34m(mountpoint, force_remount, timeout_ms, ephemeral, readonly)\u001b[0m\n\u001b[1;32m    131\u001b[0m   )\n\u001b[1;32m    132\u001b[0m   \u001b[0;32mif\u001b[0m \u001b[0mephemeral\u001b[0m\u001b[0;34m:\u001b[0m\u001b[0;34m\u001b[0m\u001b[0;34m\u001b[0m\u001b[0m\n\u001b[0;32m--> 133\u001b[0;31m     _message.blocking_request(\n\u001b[0m\u001b[1;32m    134\u001b[0m         \u001b[0;34m'request_auth'\u001b[0m\u001b[0;34m,\u001b[0m \u001b[0mrequest\u001b[0m\u001b[0;34m=\u001b[0m\u001b[0;34m{\u001b[0m\u001b[0;34m'authType'\u001b[0m\u001b[0;34m:\u001b[0m \u001b[0;34m'dfs_ephemeral'\u001b[0m\u001b[0;34m}\u001b[0m\u001b[0;34m,\u001b[0m \u001b[0mtimeout_sec\u001b[0m\u001b[0;34m=\u001b[0m\u001b[0;32mNone\u001b[0m\u001b[0;34m\u001b[0m\u001b[0;34m\u001b[0m\u001b[0m\n\u001b[1;32m    135\u001b[0m     )\n",
            "\u001b[0;32m/usr/local/lib/python3.10/dist-packages/google/colab/_message.py\u001b[0m in \u001b[0;36mblocking_request\u001b[0;34m(request_type, request, timeout_sec, parent)\u001b[0m\n\u001b[1;32m    174\u001b[0m       \u001b[0mrequest_type\u001b[0m\u001b[0;34m,\u001b[0m \u001b[0mrequest\u001b[0m\u001b[0;34m,\u001b[0m \u001b[0mparent\u001b[0m\u001b[0;34m=\u001b[0m\u001b[0mparent\u001b[0m\u001b[0;34m,\u001b[0m \u001b[0mexpect_reply\u001b[0m\u001b[0;34m=\u001b[0m\u001b[0;32mTrue\u001b[0m\u001b[0;34m\u001b[0m\u001b[0;34m\u001b[0m\u001b[0m\n\u001b[1;32m    175\u001b[0m   )\n\u001b[0;32m--> 176\u001b[0;31m   \u001b[0;32mreturn\u001b[0m \u001b[0mread_reply_from_input\u001b[0m\u001b[0;34m(\u001b[0m\u001b[0mrequest_id\u001b[0m\u001b[0;34m,\u001b[0m \u001b[0mtimeout_sec\u001b[0m\u001b[0;34m)\u001b[0m\u001b[0;34m\u001b[0m\u001b[0;34m\u001b[0m\u001b[0m\n\u001b[0m",
            "\u001b[0;32m/usr/local/lib/python3.10/dist-packages/google/colab/_message.py\u001b[0m in \u001b[0;36mread_reply_from_input\u001b[0;34m(message_id, timeout_sec)\u001b[0m\n\u001b[1;32m    101\u001b[0m     ):\n\u001b[1;32m    102\u001b[0m       \u001b[0;32mif\u001b[0m \u001b[0;34m'error'\u001b[0m \u001b[0;32min\u001b[0m \u001b[0mreply\u001b[0m\u001b[0;34m:\u001b[0m\u001b[0;34m\u001b[0m\u001b[0;34m\u001b[0m\u001b[0m\n\u001b[0;32m--> 103\u001b[0;31m         \u001b[0;32mraise\u001b[0m \u001b[0mMessageError\u001b[0m\u001b[0;34m(\u001b[0m\u001b[0mreply\u001b[0m\u001b[0;34m[\u001b[0m\u001b[0;34m'error'\u001b[0m\u001b[0;34m]\u001b[0m\u001b[0;34m)\u001b[0m\u001b[0;34m\u001b[0m\u001b[0;34m\u001b[0m\u001b[0m\n\u001b[0m\u001b[1;32m    104\u001b[0m       \u001b[0;32mreturn\u001b[0m \u001b[0mreply\u001b[0m\u001b[0;34m.\u001b[0m\u001b[0mget\u001b[0m\u001b[0;34m(\u001b[0m\u001b[0;34m'data'\u001b[0m\u001b[0;34m,\u001b[0m \u001b[0;32mNone\u001b[0m\u001b[0;34m)\u001b[0m\u001b[0;34m\u001b[0m\u001b[0;34m\u001b[0m\u001b[0m\n\u001b[1;32m    105\u001b[0m \u001b[0;34m\u001b[0m\u001b[0m\n",
            "\u001b[0;31mMessageError\u001b[0m: Error: credential propagation was unsuccessful"
          ]
        }
      ]
    }
  ]
}